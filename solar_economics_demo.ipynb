{
 "cells": [
  {
   "cell_type": "markdown",
   "id": "7032450e",
   "metadata": {},
   "source": [
    "# Solar Panel Economics Calculator\n",
    "\n",
    "This notebook demonstrates how to use the solar panel economics calculator to estimate the financial performance of a solar PV system."
   ]
  },
  {
   "cell_type": "code",
   "execution_count": null,
   "id": "ef1a6daf",
   "metadata": {},
   "outputs": [],
   "source": [
    "import pandas as pd\n",
    "import numpy as np\n",
    "import matplotlib.pyplot as plt\n",
    "\n",
    "from solar_production import calculate_solar_economics"
   ]
  },
  {
   "cell_type": "markdown",
   "id": "cbedbb15",
   "metadata": {},
   "source": [
    "## Load Data\n",
    "\n",
    "First, we load the required input data: electricity consumption, spot prices, and solar production."
   ]
  },
  {
   "cell_type": "code",
   "execution_count": null,
   "id": "39569fe9",
   "metadata": {},
   "outputs": [],
   "source": [
    "# Load consumption data\n",
    "consumption_df = pd.read_csv('consumption.csv', parse_dates=['START_TIME'])\n",
    "consumption_df = consumption_df.set_index('START_TIME')\n",
    "consumption_hourly = consumption_df['QUANTITY_KWH']\n",
    "\n",
    "# Display first few rows\n",
    "consumption_hourly.head()"
   ]
  },
  {
   "cell_type": "code",
   "execution_count": null,
   "id": "a18e4537",
   "metadata": {},
   "outputs": [],
   "source": [
    "# Load spot prices\n",
    "spot_prices_df = pd.read_excel('spotpriser.xlsx', parse_dates=True, index_col=0)\n",
    "spot_price_hourly = spot_prices_df.iloc[:, 0]  # Assuming the first column contains prices\n",
    "\n",
    "# Display first few rows\n",
    "spot_price_hourly.head()"
   ]
  },
  {
   "cell_type": "markdown",
   "id": "7c12760b",
   "metadata": {},
   "source": [
    "## Create Sample Solar Production Data\n",
    "\n",
    "For this demo, we'll create a simulated solar production curve. In a real scenario, you would load actual production data or use a simulation tool like PVGIS."
   ]
  },
  {
   "cell_type": "code",
   "execution_count": null,
   "id": "16c28618",
   "metadata": {},
   "outputs": [],
   "source": [
    "# Create a simplified solar production model for demonstration\n",
    "# In real applications, use actual data or proper simulation tools\n",
    "\n",
    "def simulate_solar_production(start_date, days=365, peak_capacity=10.0):\n",
    "    \"\"\"Create a simple simulated solar production dataset\"\"\"\n",
    "    date_range = pd.date_range(start=start_date, periods=24*days, freq='H')\n",
    "    \n",
    "    # Day of year to approximate seasonal variations\n",
    "    day_of_year = date_range.dayofyear\n",
    "    \n",
    "    # Hour of day to model daily production curve\n",
    "    hour_of_day = date_range.hour\n",
    "    \n",
    "    # Seasonal factor: more production in summer\n",
    "    seasonal_factor = np.sin((day_of_year - 172) * 2 * np.pi / 365) * 0.5 + 0.5\n",
    "    \n",
    "    # Daily factor: production follows a bell curve during daylight hours\n",
    "    daily_factor = np.exp(-((hour_of_day - 12)**2) / 20)\n",
    "    \n",
    "    # Combine factors and scale by peak capacity\n",
    "    production = peak_capacity * seasonal_factor * daily_factor\n",
    "    \n",
    "    # Add some random variation\n",
    "    noise = np.random.normal(0, 0.1, len(production))\n",
    "    production = production + noise * production\n",
    "    \n",
    "    # Ensure non-negative values\n",
    "    production = np.maximum(production, 0)\n",
    "    \n",
    "    return pd.Series(production, index=date_range)\n",
    "\n",
    "# Get the start date from consumption data\n",
    "start_date = consumption_hourly.index[0]\n",
    "\n",
    "# Simulate solar production for 10 kWp system\n",
    "production_hourly = simulate_solar_production(start_date, peak_capacity=10.0)\n",
    "\n",
    "# Plot sample daily production\n",
    "plt.figure(figsize=(10, 6))\n",
    "production_hourly['2022-08-01':'2022-08-07'].plot()\n",
    "plt.title('Simulated Solar Production (First Week)')\n",
    "plt.ylabel('Power (kW)')\n",
    "plt.grid(True)\n",
    "plt.show()"
   ]
  },
  {
   "cell_type": "markdown",
   "id": "e450eb76",
   "metadata": {},
   "source": [
    "## Calculate Solar System Economics\n",
    "\n",
    "Now we'll use the `calculate_solar_economics` function to evaluate the financial performance of the solar system."
   ]
  },
  {
   "cell_type": "code",
   "execution_count": null,
   "id": "23a84fc4",
   "metadata": {},
   "outputs": [],
   "source": [
    "# Make sure all series have the same time range\n",
    "common_index = consumption_hourly.index.intersection(spot_price_hourly.index).intersection(production_hourly.index)\n",
    "consumption = consumption_hourly.loc[common_index]\n",
    "spot_prices = spot_price_hourly.loc[common_index]\n",
    "production = production_hourly.loc[common_index]\n",
    "\n",
    "# Set parameters\n",
    "investment_cost = 150000  # NOK for a 10 kWp system\n",
    "lifetime_years = 25\n",
    "degradation_per_year = 0.005  # 0.5% degradation per year\n",
    "grid_tariff = 0.5  # NOK/kWh\n",
    "system_losses = 0.14  # System losses (inverter efficiency, wiring, etc.)\n",
    "\n",
    "# Calculate economics\n",
    "results_df = calculate_solar_economics(\n",
    "    production_hourly=production,\n",
    "    spot_price_hourly=spot_prices,\n",
    "    consumption_hourly=consumption,\n",
    "    investment_cost=investment_cost,\n",
    "    lifetime_years=lifetime_years,\n",
    "    degradation_per_year=degradation_per_year,\n",
    "    grid_tariff=grid_tariff,\n",
    "    system_losses=system_losses,\n",
    "    inflation=0.02\n",
    ")\n",
    "\n",
    "# Display results\n",
    "results_df"
   ]
  },
  {
   "cell_type": "code",
   "execution_count": null,
   "id": "efe566a0",
   "metadata": {},
   "outputs": [],
   "source": [
    "# Plot cumulative cashflow\n",
    "plt.figure(figsize=(12, 6))\n",
    "plt.plot(results_df['Year'], results_df['Cumulative (NOK)'], marker='o')\n",
    "plt.axhline(y=investment_cost, color='r', linestyle='-', label='Investment Cost')\n",
    "plt.title('Cumulative Cashflow')\n",
    "plt.xlabel('Year')\n",
    "plt.ylabel('NOK')\n",
    "plt.grid(True)\n",
    "plt.legend()\n",
    "plt.show()"
   ]
  },
  {
   "cell_type": "markdown",
   "id": "d22f5f58",
   "metadata": {},
   "source": [
    "## Sensitivity Analysis\n",
    "\n",
    "Let's explore how different parameters affect the economics."
   ]
  },
  {
   "cell_type": "code",
   "execution_count": null,
   "id": "d7a5bcbb",
   "metadata": {},
   "outputs": [],
   "source": [
    "# Function to calculate payback period\n",
    "def calculate_payback(capacity_kw, investment_per_kw=15000, grid_tariff=0.5):\n",
    "    investment = capacity_kw * investment_per_kw\n",
    "    \n",
    "    # Scale production by capacity\n",
    "    scaled_production = production * (capacity_kw / 10.0)\n",
    "    \n",
    "    results = calculate_solar_economics(\n",
    "        production_hourly=scaled_production,\n",
    "        spot_price_hourly=spot_prices,\n",
    "        consumption_hourly=consumption,\n",
    "        investment_cost=investment,\n",
    "        lifetime_years=lifetime_years,\n",
    "        degradation_per_year=degradation_per_year,\n",
    "        grid_tariff=grid_tariff,\n",
    "        system_losses=system_losses\n",
    "    )\n",
    "    \n",
    "    # Find payback year\n",
    "    for index, row in results.iterrows():\n",
    "        if row['Cumulative (NOK)'] >= investment:\n",
    "            return row['Year']\n",
    "    \n",
    "    return float('inf')  # No payback within lifetime\n",
    "\n",
    "# Test different system sizes\n",
    "capacities = np.arange(5, 21, 2.5)\n",
    "payback_years = [calculate_payback(cap) for cap in capacities]\n",
    "\n",
    "plt.figure(figsize=(10, 6))\n",
    "plt.plot(capacities, payback_years, marker='o')\n",
    "plt.title('Payback Period vs. System Size')\n",
    "plt.xlabel('System Size (kWp)')\n",
    "plt.ylabel('Payback Period (Years)')\n",
    "plt.grid(True)\n",
    "plt.show()"
   ]
  },
  {
   "cell_type": "markdown",
   "id": "27f62194",
   "metadata": {},
   "source": [
    "## Conclusion\n",
    "\n",
    "This notebook demonstrates how to use the solar economics calculator to analyze the financial performance of a solar PV system. The analysis includes:\n",
    "\n",
    "- Loading and preparing input data\n",
    "- Calculating financial metrics over the system lifetime\n",
    "- Visualizing cumulative cashflow and payback period\n",
    "- Performing sensitivity analysis on system size\n",
    "\n",
    "You can extend this analysis by:\n",
    "- Exploring different system configurations\n",
    "- Adding more sophisticated production modeling\n",
    "- Analyzing the impact of electricity price scenarios\n",
    "- Including battery storage in the model"
   ]
  }
 ],
 "metadata": {
  "language_info": {
   "name": "python"
  }
 },
 "nbformat": 4,
 "nbformat_minor": 5
}
